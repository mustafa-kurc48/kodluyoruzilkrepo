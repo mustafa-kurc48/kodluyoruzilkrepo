{
 "cells": [
  {
   "cell_type": "code",
   "execution_count": 1,
   "id": "38a71329",
   "metadata": {},
   "outputs": [
    {
     "name": "stdout",
     "output_type": "stream",
     "text": [
      "[1, 'a', 'cat', 2, 3, 'dog', 4, 5]\n"
     ]
    }
   ],
   "source": [
    "# Bir listeyi düzleştiren (flatten) fonksiyon yazın.\n",
    "# Elemanları birden çok katmanlı listelerden ([[3],2] gibi) oluşabileceği gibi, non-scalar verilerden de oluşabilir.\n",
    "\n",
    "def flatten(lst):\n",
    "    result = []\n",
    "    for item in lst:\n",
    "        if isinstance(item, list):\n",
    "            result.extend(flatten(item))\n",
    "        else:\n",
    "            result.append(item)\n",
    "    return result\n",
    "\n",
    "l = [[1, 'a', ['cat'], 2], [[[3]], 'dog'], 4, 5]\n",
    "flattened = flatten(l)\n",
    "print(flattened)"
   ]
  },
  {
   "cell_type": "code",
   "execution_count": 2,
   "id": "80eefd77",
   "metadata": {},
   "outputs": [
    {
     "name": "stdout",
     "output_type": "stream",
     "text": [
      "[[[7, 6, 5], [4, 3], [2, 1]]]\n"
     ]
    }
   ],
   "source": [
    "# Verilen listenin içindeki elemanları tersine döndüren bir fonksiyon yazın.\n",
    "# Eğer listenin içindeki elemanlar da liste içeriyorsa onların elemanlarını da tersine döndürün.\n",
    "\n",
    "def tersdüzet(liste):\n",
    "    liste.reverse()\n",
    "    sonuc = []\n",
    "    for item in liste:\n",
    "        if isinstance(item, list):\n",
    "            item.reverse()\n",
    "            sonuc.append(item)\n",
    "        else:\n",
    "            sonuc.append(item)\n",
    "    return [sonuc]\n",
    "\n",
    "l = [[1, 2], [3, 4], [5, 6, 7]]\n",
    "sonucumuz = tersdüzet(l)\n",
    "print(sonucumuz)"
   ]
  }
 ],
 "metadata": {
  "kernelspec": {
   "display_name": "Python 3",
   "language": "python",
   "name": "python3"
  },
  "language_info": {
   "codemirror_mode": {
    "name": "ipython",
    "version": 3
   },
   "file_extension": ".py",
   "mimetype": "text/x-python",
   "name": "python",
   "nbconvert_exporter": "python",
   "pygments_lexer": "ipython3",
   "version": "3.12.6"
  }
 },
 "nbformat": 4,
 "nbformat_minor": 5
}
